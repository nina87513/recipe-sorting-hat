{
 "cells": [
  {
   "cell_type": "code",
   "execution_count": 173,
   "metadata": {},
   "outputs": [],
   "source": [
    "import csv\n",
    "import pandas as pd\n",
    "from nltk.stem import PorterStemmer\n",
    "import numpy as np\n",
    "from nltk.corpus import wordnet as wn\n",
    "from tqdm import tqdm\n",
    "\n",
    "def tokenization(data):\n",
    "    for i in range(10):\n",
    "        data = data.replace(str(i), ' ')\n",
    "    return data.replace('\\r\\n', ' ').replace(',', ' ').replace('.', ' ').replace('(', ' ') \\\n",
    "        .replace(')', ' ').replace('?', ' ').replace('`', ' ').replace('@', ' ').replace('%', ' ') \\\n",
    "        .replace('!', ' ').replace('-', ' ').replace('\\'', ' ').replace('\\\"', ' ').replace(':', ' ') \\\n",
    "        .replace(';', ' ').replace('_', ' ').replace('/', ' ').replace('#', ' ').replace('*', ' ') \\\n",
    "        .replace('&', ' ').replace('$', ' ').replace('{', ' ').replace('}', ' ').split()\n",
    "\n",
    "\n",
    "def lowercasing(data):\n",
    "    return [x.lower() for x in data]\n",
    "\n",
    "\n",
    "def stemming(data):\n",
    "    stemmer = PorterStemmer()\n",
    "    return [stemmer.stem(x) for x in data]\n",
    "\n",
    "\n",
    "def remove_stopwords(data):\n",
    "    with open('stopwords.txt') as sw:\n",
    "        stop_words = sw.read()\n",
    "        return [x for x in data if (x not in stop_words)]\n",
    "\n",
    "\n",
    "def extract_vocabulary(class_list):\n",
    "    result_set = set()\n",
    "    for c in class_list:\n",
    "        for doc in c:\n",
    "#             token_list = tokenization(doc)\n",
    "#             lower_token_list = lowercasing(token_list)\n",
    "#             stemmed_token_list = stemming(lower_token_list)\n",
    "#             remove_stopword_list = remove_stopwords(stemmed_token_list)\n",
    "            result_set.update(doc)\n",
    "    return list(result_set)\n",
    "\n",
    "\n",
    "def count_docs(docs):\n",
    "    return len(docs)\n",
    "\n",
    "\n",
    "def count_docs_in_class(docs_class, class_index):\n",
    "    return len(docs_class[class_index])\n",
    "\n",
    "\n",
    "def concatenate_text_of_all_docs_in_class(docs_class, class_index, V):\n",
    "    result_list = []\n",
    "    for doc in docs_class[class_index]:\n",
    "        token_list = tokenization(doc)\n",
    "        lower_token_list = lowercasing(token_list)\n",
    "        stemmed_token_list = stemming(lower_token_list)\n",
    "        remove_stopword_list = remove_stopwords(stemmed_token_list)\n",
    "        temp_list = []\n",
    "        for w in remove_stopword_list:\n",
    "            if w in V:\n",
    "                temp_list.append(w)\n",
    "\n",
    "        result_list = [*result_list, *temp_list]\n",
    "    return result_list\n",
    "\n",
    "\n",
    "def count_tokens_of_term(text_list, term):\n",
    "    cnt = 0\n",
    "    for text in text_list:\n",
    "        if text == term:\n",
    "            cnt += 1\n",
    "    return cnt\n",
    "\n",
    "\n",
    "def extract_tokens_from_doc(vocabularys, doc):\n",
    "    result = []\n",
    "    token_list = tokenization(doc)\n",
    "    lower_token_list = lowercasing(token_list)\n",
    "    stemmed_token_list = stemming(lower_token_list)\n",
    "    remove_stopword_list = remove_stopwords(stemmed_token_list)\n",
    "    for word in remove_stopword_list:\n",
    "        if word in vocabularys:\n",
    "            result.append(word)\n",
    "    return result"
   ]
  },
  {
   "cell_type": "markdown",
   "metadata": {},
   "source": [
    "## Read Data"
   ]
  },
  {
   "cell_type": "code",
   "execution_count": 174,
   "metadata": {},
   "outputs": [],
   "source": [
    "train_docs_class_list = []\n",
    "test_docs_index_list = list(range(1, 1010))\n",
    "train_docs_list = []\n",
    "with open('trainingdata.txt') as csvfile:\n",
    "    rows = csv.reader(csvfile, delimiter=' ')\n",
    "    for row in rows:\n",
    "        file_list = []\n",
    "        for col in row[1:-1]:\n",
    "            f = open('recipe_dataset/' + col + '.txt', mode='r')\n",
    "            file_text = f.read()\n",
    "            file_list.append(file_text)\n",
    "            train_docs_list.append(file_text)\n",
    "            f.close()\n",
    "            test_docs_index_list.remove(int(col))\n",
    "        train_docs_class_list.append(file_list)\n"
   ]
  },
  {
   "cell_type": "code",
   "execution_count": 175,
   "metadata": {},
   "outputs": [],
   "source": [
    "text_all_class_list = []\n",
    "for class_index in range(11):\n",
    "    text_all_list = []\n",
    "    for doc in train_docs_class_list[class_index]:\n",
    "        token_list = tokenization(doc)\n",
    "        lower_token_list = lowercasing(token_list)\n",
    "        stemmed_token_list = stemming(lower_token_list)\n",
    "        remove_stopword_list = remove_stopwords(stemmed_token_list)\n",
    "        text_all_list.append(remove_stopword_list)\n",
    "    text_all_class_list.append(text_all_list)"
   ]
  },
  {
   "cell_type": "code",
   "execution_count": 176,
   "metadata": {},
   "outputs": [],
   "source": [
    "backup = text_all_class_list[0][0].copy()"
   ]
  },
  {
   "cell_type": "markdown",
   "metadata": {},
   "source": [
    "## 同義詞轉換"
   ]
  },
  {
   "cell_type": "code",
   "execution_count": 177,
   "metadata": {},
   "outputs": [],
   "source": [
    "# for class_list in tqdm(text_all_class_list):\n",
    "#     for doc in class_list:\n",
    "#         for word in doc:\n",
    "#             similar_words_set = set()\n",
    "#             for i in wn.synsets(word):\n",
    "#                 similar_words_set.update(set(i.lemma_names()))\n",
    "#             similar_words_set = list(similar_words_set)\n",
    "#             for temp_index, temp in enumerate(doc):\n",
    "#                 for sw in similar_words_set:\n",
    "#                     if sw in temp:\n",
    "#                         doc[temp_index] = word"
   ]
  },
  {
   "cell_type": "code",
   "execution_count": 193,
   "metadata": {},
   "outputs": [
    {
     "data": {
      "text/plain": [
       "['smoke', 'fumigate', 'fume', 'reek']"
      ]
     },
     "execution_count": 193,
     "metadata": {},
     "output_type": "execute_result"
    }
   ],
   "source": [
    "similar_words_set = set()\n",
    "for i in wn.synsets('fume'):\n",
    "    similar_words_set.update(set(i.lemma_names()))\n",
    "similar_words_set = list(similar_words_set)\n",
    "similar_words_set"
   ]
  },
  {
   "cell_type": "code",
   "execution_count": 180,
   "metadata": {},
   "outputs": [],
   "source": [
    "V = extract_vocabulary(text_all_class_list)\n",
    "convert_dictionary = {}\n",
    "for v in V:\n",
    "    similar_words_set = set()\n",
    "    for i in wn.synsets(v):\n",
    "        similar_words_set.update(set(i.lemma_names()))\n",
    "    similar_words_set = list(similar_words_set)\n",
    "    for temp in V:\n",
    "        if temp in similar_words_set and temp not in convert_dictionary.keys():\n",
    "            convert_dictionary[temp] = v\n"
   ]
  },
  {
   "cell_type": "code",
   "execution_count": null,
   "metadata": {},
   "outputs": [],
   "source": [
    "convert_dictionary"
   ]
  },
  {
   "cell_type": "code",
   "execution_count": 186,
   "metadata": {},
   "outputs": [],
   "source": [
    "for class_list_index, class_list in enumerate(text_all_class_list):\n",
    "    for doc_index, doc in enumerate(class_list):\n",
    "        for word_index, word in enumerate(doc):\n",
    "            if text_all_class_list[class_list_index][doc_index][word_index] in convert_dictionary.keys():\n",
    "                text_all_class_list[class_list_index][doc_index][word_index] = convert_dictionary[word]"
   ]
  },
  {
   "cell_type": "code",
   "execution_count": null,
   "metadata": {},
   "outputs": [],
   "source": [
    "text_all_class_list[0][0]"
   ]
  },
  {
   "cell_type": "markdown",
   "metadata": {},
   "source": [
    "## $\\chi ^ 2$ Feature Selection"
   ]
  },
  {
   "cell_type": "code",
   "execution_count": 194,
   "metadata": {},
   "outputs": [],
   "source": [
    "chi_square_list = []\n",
    "V = extract_vocabulary(text_all_class_list)\n",
    "for class_index in range(11):\n",
    "    for term in V:\n",
    "        on_topic_present = 0\n",
    "        off_topic_present = 0\n",
    "        on_topic_absent = 0\n",
    "        off_topic_absent = 0\n",
    "        for docs_class_index in range(11):\n",
    "            for texts in text_all_class_list[docs_class_index]:\n",
    "                if (term in texts) and (docs_class_index == class_index):\n",
    "                    on_topic_present += 1\n",
    "                elif (term in texts) and (docs_class_index != class_index):\n",
    "                    off_topic_present += 1\n",
    "                elif (term not in texts) and (docs_class_index == class_index):\n",
    "                    on_topic_absent += 1\n",
    "                elif (term not in texts) and (docs_class_index != class_index):\n",
    "                    off_topic_absent += 1\n",
    "        N = on_topic_present + off_topic_present + on_topic_absent + off_topic_absent\n",
    "        on_topic = on_topic_present + on_topic_absent\n",
    "        off_topic = off_topic_present + off_topic_absent\n",
    "        present = on_topic_present + off_topic_present\n",
    "        absent = on_topic_absent + off_topic_absent\n",
    "        expected_on_topic_present = N * (on_topic/N) * (present/N)\n",
    "        expected_off_topic_present = N * (off_topic/N) * (present/N)\n",
    "        expected_on_topic_absent = N * (on_topic/N) * (absent/N)\n",
    "        expected_off_topic_absent = N * (off_topic/N) * (absent/N)\n",
    "\n",
    "        chi_square = ((\n",
    "            (on_topic_present-expected_on_topic_present)**2)/expected_on_topic_present) + ((\n",
    "                (off_topic_present-expected_off_topic_present)**2)/expected_off_topic_present) + ((\n",
    "                    (on_topic_absent-expected_on_topic_absent)**2)/expected_on_topic_absent) + ((\n",
    "                        (off_topic_absent-expected_off_topic_absent)**2)/expected_off_topic_absent)\n",
    "\n",
    "        chi_square_list.append(\n",
    "            {'term': term, 'class_index': class_index, 'chi-square': chi_square})\n",
    "\n",
    "term_list = sorted(\n",
    "    chi_square_list, key=lambda i: i['chi-square'], reverse=True)[:500]"
   ]
  },
  {
   "cell_type": "code",
   "execution_count": 195,
   "metadata": {},
   "outputs": [],
   "source": [
    "new_train_docs_list = []\n",
    "for term in term_list:\n",
    "    new_train_docs_list.append(term['term'])"
   ]
  },
  {
   "cell_type": "markdown",
   "metadata": {},
   "source": [
    "## Training"
   ]
  },
  {
   "cell_type": "code",
   "execution_count": 196,
   "metadata": {},
   "outputs": [],
   "source": [
    "V = new_train_docs_list\n",
    "N = count_docs(train_docs_list)\n",
    "prior = []\n",
    "condprob = []\n",
    "for class_index in range(11):\n",
    "    Nc = count_docs_in_class(train_docs_class_list, class_index)\n",
    "    prior.append(Nc / N)\n",
    "    text_c = concatenate_text_of_all_docs_in_class(\n",
    "        train_docs_class_list, class_index, V)\n",
    "\n",
    "    total_number_of_terms_in_d = 0\n",
    "    for t in V:\n",
    "        total_number_of_terms_in_d += count_tokens_of_term(text_c, t)\n",
    "    condprob_term_dict = {}\n",
    "    for t in V:\n",
    "        Tct = count_tokens_of_term(text_c, t)\n",
    "        condprob_term = (Tct + 1) / (total_number_of_terms_in_d + len(V))\n",
    "        condprob_term_dict[t] = condprob_term\n",
    "    condprob.append(condprob_term_dict)"
   ]
  },
  {
   "cell_type": "markdown",
   "metadata": {},
   "source": [
    "## Testing"
   ]
  },
  {
   "cell_type": "code",
   "execution_count": 197,
   "metadata": {},
   "outputs": [
    {
     "name": "stderr",
     "output_type": "stream",
     "text": [
      "100%|██████████| 740/740 [00:04<00:00, 178.52it/s]\n"
     ]
    }
   ],
   "source": [
    "result_index = []\n",
    "result_class = []\n",
    "for test_doc_index in tqdm(test_docs_index_list):\n",
    "    f = open('recipe_dataset/' + str(test_doc_index) + '.txt', mode='r')\n",
    "    file_text = f.read()\n",
    "    f.close()\n",
    "    \n",
    "    W = extract_tokens_from_doc(V, file_text)\n",
    "    score_list = []\n",
    "    for class_index in range(11):\n",
    "        score = np.log(prior[class_index])\n",
    "        for t in W:\n",
    "            score += np.log(condprob[class_index][t])\n",
    "        score_list.append(score)\n",
    "    result_index.append(test_doc_index)\n",
    "    result_class.append(score_list.index(max(score_list)) + 1)"
   ]
  },
  {
   "cell_type": "code",
   "execution_count": 198,
   "metadata": {},
   "outputs": [],
   "source": [
    "data = {'Id': result_index,\n",
    "        'Value': result_class\n",
    "        }\n",
    "df = pd.DataFrame(data, columns=['Id', 'Value'])"
   ]
  },
  {
   "cell_type": "code",
   "execution_count": 199,
   "metadata": {},
   "outputs": [
    {
     "data": {
      "text/html": [
       "<div>\n",
       "<style scoped>\n",
       "    .dataframe tbody tr th:only-of-type {\n",
       "        vertical-align: middle;\n",
       "    }\n",
       "\n",
       "    .dataframe tbody tr th {\n",
       "        vertical-align: top;\n",
       "    }\n",
       "\n",
       "    .dataframe thead th {\n",
       "        text-align: right;\n",
       "    }\n",
       "</style>\n",
       "<table border=\"1\" class=\"dataframe\">\n",
       "  <thead>\n",
       "    <tr style=\"text-align: right;\">\n",
       "      <th></th>\n",
       "      <th>Id</th>\n",
       "      <th>Value</th>\n",
       "    </tr>\n",
       "  </thead>\n",
       "  <tbody>\n",
       "    <tr>\n",
       "      <th>0</th>\n",
       "      <td>6</td>\n",
       "      <td>7</td>\n",
       "    </tr>\n",
       "    <tr>\n",
       "      <th>1</th>\n",
       "      <td>7</td>\n",
       "      <td>7</td>\n",
       "    </tr>\n",
       "    <tr>\n",
       "      <th>2</th>\n",
       "      <td>25</td>\n",
       "      <td>1</td>\n",
       "    </tr>\n",
       "    <tr>\n",
       "      <th>3</th>\n",
       "      <td>26</td>\n",
       "      <td>1</td>\n",
       "    </tr>\n",
       "    <tr>\n",
       "      <th>4</th>\n",
       "      <td>27</td>\n",
       "      <td>1</td>\n",
       "    </tr>\n",
       "  </tbody>\n",
       "</table>\n",
       "</div>"
      ],
      "text/plain": [
       "   Id  Value\n",
       "0   6      7\n",
       "1   7      7\n",
       "2  25      1\n",
       "3  26      1\n",
       "4  27      1"
      ]
     },
     "execution_count": 199,
     "metadata": {},
     "output_type": "execute_result"
    }
   ],
   "source": [
    "df.head()"
   ]
  },
  {
   "cell_type": "code",
   "execution_count": null,
   "metadata": {},
   "outputs": [],
   "source": []
  },
  {
   "cell_type": "code",
   "execution_count": null,
   "metadata": {},
   "outputs": [],
   "source": []
  },
  {
   "cell_type": "code",
   "execution_count": null,
   "metadata": {},
   "outputs": [],
   "source": []
  },
  {
   "cell_type": "code",
   "execution_count": null,
   "metadata": {},
   "outputs": [],
   "source": []
  },
  {
   "cell_type": "code",
   "execution_count": null,
   "metadata": {},
   "outputs": [],
   "source": []
  },
  {
   "cell_type": "code",
   "execution_count": null,
   "metadata": {},
   "outputs": [],
   "source": []
  },
  {
   "cell_type": "code",
   "execution_count": null,
   "metadata": {},
   "outputs": [],
   "source": []
  },
  {
   "cell_type": "code",
   "execution_count": null,
   "metadata": {},
   "outputs": [],
   "source": []
  },
  {
   "cell_type": "code",
   "execution_count": null,
   "metadata": {},
   "outputs": [],
   "source": []
  }
 ],
 "metadata": {
  "kernelspec": {
   "display_name": "Python 3",
   "language": "python",
   "name": "python3"
  },
  "language_info": {
   "codemirror_mode": {
    "name": "ipython",
    "version": 3
   },
   "file_extension": ".py",
   "mimetype": "text/x-python",
   "name": "python",
   "nbconvert_exporter": "python",
   "pygments_lexer": "ipython3",
   "version": "3.6.8"
  }
 },
 "nbformat": 4,
 "nbformat_minor": 4
}
