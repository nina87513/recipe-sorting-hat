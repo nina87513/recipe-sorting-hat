{
 "cells": [
  {
   "cell_type": "code",
   "execution_count": 2,
   "metadata": {},
   "outputs": [],
   "source": [
    "import csv\n",
    "from nltk.stem import PorterStemmer\n",
    "import numpy as np\n"
   ]
  },
  {
   "cell_type": "code",
   "execution_count": 3,
   "metadata": {},
   "outputs": [],
   "source": [
    "\n",
    "def tokenization(data):\n",
    "    for i in range(10):\n",
    "        data = data.replace(str(i), ' ')\n",
    "    return data.replace('\\r\\n', ' ').replace(',', ' ').replace('.', ' ').replace('(', ' ') \\\n",
    "        .replace(')', ' ').replace('?', ' ').replace('`', ' ').replace('@', ' ').replace('%', ' ') \\\n",
    "        .replace('!', ' ').replace('-', ' ').replace('\\'', ' ').replace('\\\"', ' ').replace(':', ' ') \\\n",
    "        .replace(';', ' ').replace('_', ' ').replace('/', ' ').replace('#', ' ').replace('*', ' ') \\\n",
    "        .replace('&', ' ').replace('$', ' ').replace('{', ' ').replace('}', ' ').split()\n",
    "\n",
    "\n",
    "def lowercasing(data):\n",
    "    return [x.lower() for x in data]\n",
    "\n",
    "\n",
    "def stemming(data):\n",
    "    stemmer = PorterStemmer()\n",
    "    return [stemmer.stem(x) for x in data]\n",
    "\n",
    "\n",
    "def remove_stopwords(data):\n",
    "    with open('stopwords.txt') as sw:\n",
    "        stop_words = sw.read()\n",
    "        return [x for x in data if (x not in stop_words)]\n",
    "\n",
    "\n",
    "def extract_vocabulary(docs):\n",
    "    result_set = set()\n",
    "    for doc in docs:\n",
    "        token_list = tokenization(doc)\n",
    "        lower_token_list = lowercasing(token_list)\n",
    "        stemmed_token_list = stemming(lower_token_list)\n",
    "        remove_stopword_list = remove_stopwords(stemmed_token_list)\n",
    "        result_set.update(remove_stopword_list)\n",
    "    return list(result_set)\n",
    "\n",
    "\n",
    "def count_docs(docs):\n",
    "    return len(docs)\n",
    "\n",
    "\n",
    "def count_docs_in_class(docs_class, class_index):\n",
    "    return len(docs_class[class_index])\n",
    "\n",
    "\n",
    "def concatenate_text_of_all_docs_in_class(docs_class, class_index, V):\n",
    "    result_list = []\n",
    "    for doc in docs_class[class_index]:\n",
    "        token_list = tokenization(doc)\n",
    "        lower_token_list = lowercasing(token_list)\n",
    "        stemmed_token_list = stemming(lower_token_list)\n",
    "        remove_stopword_list = remove_stopwords(stemmed_token_list)\n",
    "        temp_list = []\n",
    "        for w in remove_stopword_list:\n",
    "            if w in V:\n",
    "                temp_list.append(w)\n",
    "\n",
    "        result_list = [*result_list, *temp_list]\n",
    "    return result_list\n",
    "\n",
    "\n",
    "def count_tokens_of_term(text_list, term):\n",
    "    cnt = 0\n",
    "    for text in text_list:\n",
    "        if text == term:\n",
    "            cnt += 1\n",
    "    return cnt\n",
    "\n",
    "\n",
    "def extract_tokens_from_doc(vocabularys, doc):\n",
    "    result = []\n",
    "    token_list = tokenization(doc)\n",
    "    lower_token_list = lowercasing(token_list)\n",
    "    stemmed_token_list = stemming(lower_token_list)\n",
    "    remove_stopword_list = remove_stopwords(stemmed_token_list)\n",
    "    for word in remove_stopword_list:\n",
    "        if word in vocabularys:\n",
    "            result.append(word)\n",
    "    return result"
   ]
  },
  {
   "cell_type": "code",
   "execution_count": 4,
   "metadata": {},
   "outputs": [],
   "source": [
    "train_docs_class_list = []\n",
    "test_docs_index_list = list(range(1, 1010))\n",
    "train_docs_list = []\n",
    "with open('trainingdata.txt') as csvfile:\n",
    "    rows = csv.reader(csvfile, delimiter=' ')\n",
    "    for row in rows:\n",
    "        file_list = []\n",
    "        for col in row[1:-1]:\n",
    "            f = open('recipe_dataset/' + col + '.txt', mode='r')\n",
    "            file_text = f.read()\n",
    "            file_list.append(file_text)\n",
    "            train_docs_list.append(file_text)\n",
    "            f.close()\n",
    "            test_docs_index_list.remove(int(col))\n",
    "        train_docs_class_list.append(file_list)\n"
   ]
  },
  {
   "cell_type": "code",
   "execution_count": 7,
   "metadata": {},
   "outputs": [
    {
     "data": {
      "text/plain": [
       "24"
      ]
     },
     "execution_count": 7,
     "metadata": {},
     "output_type": "execute_result"
    }
   ],
   "source": [
    "len(train_docs_class_list[0])"
   ]
  },
  {
   "cell_type": "code",
   "execution_count": null,
   "metadata": {},
   "outputs": [],
   "source": []
  }
 ],
 "metadata": {
  "kernelspec": {
   "display_name": "Python 3",
   "language": "python",
   "name": "python3"
  },
  "language_info": {
   "codemirror_mode": {
    "name": "ipython",
    "version": 3
   },
   "file_extension": ".py",
   "mimetype": "text/x-python",
   "name": "python",
   "nbconvert_exporter": "python",
   "pygments_lexer": "ipython3",
   "version": "3.6.8"
  }
 },
 "nbformat": 4,
 "nbformat_minor": 4
}
