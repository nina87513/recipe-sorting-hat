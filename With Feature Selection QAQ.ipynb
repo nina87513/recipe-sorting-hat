{
 "cells": [
  {
   "cell_type": "markdown",
   "metadata": {},
   "source": [
    "# Without Feature Selection"
   ]
  },
  {
   "cell_type": "code",
   "execution_count": 1,
   "metadata": {},
   "outputs": [],
   "source": [
    "import os\n",
    "import csv\n",
    "from nltk.stem import PorterStemmer\n",
    "import numpy as np\n",
    "import math\n",
    "import pandas as pd\n",
    "from tqdm import tqdm"
   ]
  },
  {
   "cell_type": "code",
   "execution_count": 2,
   "metadata": {},
   "outputs": [],
   "source": [
    "def tokenization(data):\n",
    "    for i in range(10):\n",
    "        data = data.replace(str(i), ' ')\n",
    "    return data.replace('\\r\\n', ' ').replace(',', ' ').replace('.', ' ').replace('(', ' ') \\\n",
    "        .replace(')', ' ').replace('?', ' ').replace('`', ' ').replace('@', ' ').replace('%', ' ') \\\n",
    "        .replace('!', ' ').replace('-', ' ').replace('\\'', ' ').replace('\\\"', ' ').replace(':', ' ') \\\n",
    "        .replace(';', ' ').replace('_', ' ').replace('/', ' ').replace('#', ' ').replace('*', ' ') \\\n",
    "        .replace('&', ' ').replace('$', ' ').replace('{', ' ').replace('}', ' ').split()"
   ]
  },
  {
   "cell_type": "code",
   "execution_count": 3,
   "metadata": {},
   "outputs": [],
   "source": [
    "def lowercasing(data):\n",
    "    return [x.lower() for x in data]"
   ]
  },
  {
   "cell_type": "code",
   "execution_count": 4,
   "metadata": {},
   "outputs": [],
   "source": [
    "def stemming(data):\n",
    "    stemmer = PorterStemmer()\n",
    "    return [stemmer.stem(x) for x in data]"
   ]
  },
  {
   "cell_type": "code",
   "execution_count": 5,
   "metadata": {},
   "outputs": [],
   "source": [
    "def remove_stopwords(data):\n",
    "    with open('stopwords.txt') as sw:\n",
    "        stop_words = sw.read()\n",
    "        return [x for x in data if (x not in stop_words)]"
   ]
  },
  {
   "cell_type": "code",
   "execution_count": 6,
   "metadata": {},
   "outputs": [],
   "source": [
    "def extract_vocabulary(docs):\n",
    "    result_set = set()\n",
    "    for doc in docs:\n",
    "        token_list = tokenization(doc)\n",
    "        lower_token_list = lowercasing(token_list)\n",
    "        stemmed_token_list = stemming(lower_token_list)\n",
    "        remove_stopword_list = remove_stopwords(stemmed_token_list)\n",
    "        result_set.update(remove_stopword_list)\n",
    "    return list(result_set)"
   ]
  },
  {
   "cell_type": "code",
   "execution_count": 7,
   "metadata": {},
   "outputs": [],
   "source": [
    "def count_docs(docs):\n",
    "    return len(docs)"
   ]
  },
  {
   "cell_type": "code",
   "execution_count": 8,
   "metadata": {},
   "outputs": [],
   "source": [
    "def count_docs_in_class(docs_class, class_index):\n",
    "    return len(docs_class[class_index])"
   ]
  },
  {
   "cell_type": "code",
   "execution_count": 9,
   "metadata": {},
   "outputs": [],
   "source": [
    "def concatenate_text_of_all_docs_in_class(docs_class, class_index, V):\n",
    "    result_list = []\n",
    "    for doc in docs_class[class_index]:\n",
    "        token_list = tokenization(doc)\n",
    "        lower_token_list = lowercasing(token_list)\n",
    "        stemmed_token_list = stemming(lower_token_list)\n",
    "        remove_stopword_list = remove_stopwords(stemmed_token_list)\n",
    "        temp_list = []\n",
    "        for w in remove_stopword_list:\n",
    "            if w in V:\n",
    "                temp_list.append(w)\n",
    "        \n",
    "        result_list = [*result_list, *temp_list]\n",
    "    return result_list"
   ]
  },
  {
   "cell_type": "code",
   "execution_count": 10,
   "metadata": {},
   "outputs": [],
   "source": [
    "def count_tokens_of_term(text_list, term):\n",
    "    cnt = 0\n",
    "    for text in text_list:\n",
    "        if text == term:\n",
    "            cnt += 1\n",
    "    return cnt"
   ]
  },
  {
   "cell_type": "code",
   "execution_count": 11,
   "metadata": {},
   "outputs": [],
   "source": [
    "def extract_tokens_from_doc(vocabularys, doc):\n",
    "    result = []\n",
    "    token_list = tokenization(doc)\n",
    "    lower_token_list = lowercasing(token_list)\n",
    "    stemmed_token_list = stemming(lower_token_list)\n",
    "    remove_stopword_list = remove_stopwords(stemmed_token_list)\n",
    "    for word in remove_stopword_list:\n",
    "        if word in vocabularys:\n",
    "            result.append(word)\n",
    "    return result"
   ]
  },
  {
   "cell_type": "markdown",
   "metadata": {},
   "source": [
    "## Read Data"
   ]
  },
  {
   "cell_type": "code",
   "execution_count": 12,
   "metadata": {},
   "outputs": [],
   "source": [
    "train_docs_class_list = []\n",
    "test_docs_index_list = list(range(1, 1096))\n",
    "train_docs_list = []\n",
    "with open('training.txt') as csvfile:\n",
    "    rows = csv.reader(csvfile, delimiter=' ')\n",
    "    for row in rows:\n",
    "        file_list = []\n",
    "        for col in row[1:-1]:\n",
    "            f = open('IRTM/' + col + '.txt', mode='r')\n",
    "            file_text = f.read()\n",
    "            file_list.append(file_text)\n",
    "            train_docs_list.append(file_text)\n",
    "            f.close()\n",
    "            test_docs_index_list.remove(int(col))\n",
    "        train_docs_class_list.append(file_list)"
   ]
  },
  {
   "cell_type": "markdown",
   "metadata": {},
   "source": [
    "## $\\chi ^ 2$ Feature Selection"
   ]
  },
  {
   "cell_type": "code",
   "execution_count": 13,
   "metadata": {},
   "outputs": [],
   "source": [
    "text_all_class_list = []\n",
    "# train_docs_class_list[0][0]\n",
    "for class_index in range(13):\n",
    "    text_all_list = []\n",
    "    for doc in train_docs_class_list[class_index]:\n",
    "        token_list = tokenization(doc)\n",
    "        lower_token_list = lowercasing(token_list)\n",
    "        stemmed_token_list = stemming(lower_token_list)\n",
    "        remove_stopword_list = remove_stopwords(stemmed_token_list)\n",
    "        text_all_list.append(remove_stopword_list)\n",
    "    text_all_class_list.append(text_all_list)"
   ]
  },
  {
   "cell_type": "code",
   "execution_count": 16,
   "metadata": {},
   "outputs": [
    {
     "name": "stderr",
     "output_type": "stream",
     "text": [
      "100%|██████████| 4944/4944 [00:11<00:00, 435.49it/s]\n",
      "100%|██████████| 4944/4944 [00:10<00:00, 450.80it/s]\n",
      "100%|██████████| 4944/4944 [00:10<00:00, 461.65it/s]\n",
      "100%|██████████| 4944/4944 [00:10<00:00, 455.96it/s]\n",
      "100%|██████████| 4944/4944 [00:11<00:00, 429.63it/s]\n",
      "100%|██████████| 4944/4944 [00:10<00:00, 460.46it/s]\n",
      "100%|██████████| 4944/4944 [00:10<00:00, 455.61it/s]\n",
      "100%|██████████| 4944/4944 [00:10<00:00, 456.94it/s]\n",
      "100%|██████████| 4944/4944 [00:10<00:00, 467.73it/s]\n",
      "100%|██████████| 4944/4944 [00:10<00:00, 468.82it/s]\n",
      "100%|██████████| 4944/4944 [00:10<00:00, 468.07it/s]\n",
      "100%|██████████| 4944/4944 [00:10<00:00, 469.61it/s]\n",
      "100%|██████████| 4944/4944 [00:10<00:00, 471.53it/s]\n"
     ]
    }
   ],
   "source": [
    "chi_square_list = []\n",
    "V = extract_vocabulary(train_docs_list)\n",
    "for class_index in range(13):\n",
    "    for term in tqdm(V):\n",
    "        on_topic_present = 0\n",
    "        off_topic_present = 0\n",
    "        on_topic_absent = 0\n",
    "        off_topic_absent = 0\n",
    "        for docs_class_index in range(13):\n",
    "            for texts in text_all_class_list[docs_class_index]:\n",
    "                if (term in texts) and (docs_class_index == class_index):\n",
    "                    on_topic_present += 1\n",
    "                elif (term in texts) and (docs_class_index != class_index):\n",
    "                    off_topic_present += 1\n",
    "                elif (term not in texts) and (docs_class_index == class_index):\n",
    "                    on_topic_absent += 1\n",
    "                elif (term not in texts) and (docs_class_index != class_index):\n",
    "                    off_topic_absent += 1\n",
    "        N = on_topic_present + off_topic_present + on_topic_absent + off_topic_absent\n",
    "        on_topic = on_topic_present + on_topic_absent\n",
    "        off_topic = off_topic_present + off_topic_absent\n",
    "        present = on_topic_present + off_topic_present\n",
    "        absent = on_topic_absent + off_topic_absent\n",
    "        expected_on_topic_present = N * (on_topic/N) * (present/N)\n",
    "        expected_off_topic_present = N * (off_topic/N) * (present/N)\n",
    "        expected_on_topic_absent = N * (on_topic/N) * (absent/N)\n",
    "        expected_off_topic_absent = N * (off_topic/N) * (absent/N)\n",
    "        \n",
    "        chi_square = ((\n",
    "            (on_topic_present-expected_on_topic_present)**2)/expected_on_topic_present) + ((\n",
    "                (off_topic_present-expected_off_topic_present)**2)/expected_off_topic_present) + ((\n",
    "                    (on_topic_absent-expected_on_topic_absent)**2)/expected_on_topic_absent) + ((\n",
    "                        (off_topic_absent-expected_off_topic_absent)**2)/expected_off_topic_absent)\n",
    "        \n",
    "        chi_square_list.append({'term': term, 'class_index': class_index, 'chi-square': chi_square})"
   ]
  },
  {
   "cell_type": "code",
   "execution_count": 18,
   "metadata": {},
   "outputs": [],
   "source": [
    "term_list = sorted(chi_square_list, key=lambda i: i['chi-square'], reverse=True)[:500]"
   ]
  },
  {
   "cell_type": "code",
   "execution_count": 22,
   "metadata": {},
   "outputs": [],
   "source": [
    "new_train_docs_list = []\n",
    "for term in term_list:\n",
    "    new_train_docs_list.append(term['term'])"
   ]
  },
  {
   "cell_type": "code",
   "execution_count": null,
   "metadata": {},
   "outputs": [],
   "source": []
  },
  {
   "cell_type": "code",
   "execution_count": null,
   "metadata": {},
   "outputs": [],
   "source": []
  },
  {
   "cell_type": "markdown",
   "metadata": {},
   "source": [
    "## Training"
   ]
  },
  {
   "cell_type": "code",
   "execution_count": 23,
   "metadata": {},
   "outputs": [
    {
     "name": "stderr",
     "output_type": "stream",
     "text": [
      "100%|██████████| 13/13 [00:02<00:00,  6.40it/s]\n"
     ]
    }
   ],
   "source": [
    "V = new_train_docs_list\n",
    "N = count_docs(train_docs_list)\n",
    "prior = []\n",
    "condprob = []\n",
    "for class_index in tqdm(range(13)):\n",
    "    Nc = count_docs_in_class(train_docs_class_list, class_index)\n",
    "    prior.append(Nc / N)\n",
    "    text_c = concatenate_text_of_all_docs_in_class(train_docs_class_list, class_index, V)\n",
    "    \n",
    "    total_number_of_terms_in_d = 0\n",
    "    for t in V:\n",
    "        total_number_of_terms_in_d += count_tokens_of_term(text_c, t)\n",
    "    condprob_term_dict = {}\n",
    "    for t in V:\n",
    "        Tct = count_tokens_of_term(text_c, t)\n",
    "        condprob_term = (Tct + 1) / (total_number_of_terms_in_d + len(V))\n",
    "        condprob_term_dict[t] = condprob_term\n",
    "    condprob.append(condprob_term_dict)"
   ]
  },
  {
   "cell_type": "markdown",
   "metadata": {},
   "source": [
    "## Testing"
   ]
  },
  {
   "cell_type": "code",
   "execution_count": 24,
   "metadata": {},
   "outputs": [
    {
     "name": "stderr",
     "output_type": "stream",
     "text": [
      "100%|██████████| 900/900 [00:11<00:00, 81.18it/s] \n"
     ]
    }
   ],
   "source": [
    "result_index = []\n",
    "result_class = []\n",
    "for test_doc_index in tqdm(test_docs_index_list):\n",
    "    f = open('IRTM/' + str(test_doc_index) + '.txt', mode='r')\n",
    "    file_text = f.read()\n",
    "    f.close()\n",
    "    \n",
    "    W = extract_tokens_from_doc(V, file_text)\n",
    "    score_list = []\n",
    "    for class_index in range(13):\n",
    "        score = np.log(prior[class_index])\n",
    "        for t in W:\n",
    "            score += np.log(condprob[class_index][t])\n",
    "        score_list.append(score)\n",
    "    result_index.append(test_doc_index)\n",
    "    result_class.append(score_list.index(max(score_list)) + 1)"
   ]
  },
  {
   "cell_type": "code",
   "execution_count": 27,
   "metadata": {},
   "outputs": [],
   "source": [
    "data = {'Id': result_index,\n",
    "        'Value': result_class\n",
    "        }\n",
    "df = pd.DataFrame(data, columns=['Id', 'Value'])\n",
    "df.to_csv('result_new_new.csv', index=False)"
   ]
  },
  {
   "cell_type": "code",
   "execution_count": null,
   "metadata": {},
   "outputs": [],
   "source": []
  },
  {
   "cell_type": "code",
   "execution_count": null,
   "metadata": {},
   "outputs": [],
   "source": []
  }
 ],
 "metadata": {
  "kernelspec": {
   "display_name": "Python 3",
   "language": "python",
   "name": "python3"
  },
  "language_info": {
   "codemirror_mode": {
    "name": "ipython",
    "version": 3
   },
   "file_extension": ".py",
   "mimetype": "text/x-python",
   "name": "python",
   "nbconvert_exporter": "python",
   "pygments_lexer": "ipython3",
   "version": "3.6.8"
  }
 },
 "nbformat": 4,
 "nbformat_minor": 4
}
